{
 "cells": [
  {
   "cell_type": "code",
   "execution_count": null,
   "id": "1cf52930-04da-410a-9dbc-dd19965b7ecd",
   "metadata": {},
   "outputs": [],
   "source": [
    "import bagpy\n",
    "from bagpy import bagreader\n",
    "import numpy as np\n",
    "import pandas as pd"
   ]
  },
  {
   "cell_type": "code",
   "execution_count": null,
   "id": "2b330095-ef52-48f7-bb6f-e30b67dc1f19",
   "metadata": {},
   "outputs": [],
   "source": [
    "def read_bag_file(file_path, name):\n",
    "    # Read the bag file\n",
    "    bag = bagreader(file_path)\n",
    "    \n",
    "    # Get all topics in the bag file\n",
    "    topics = bag.topics\n",
    "    print(f\"Topics in {name}:\")\n",
    "    \n",
    "    for topic in topics:\n",
    "        # Get the CSV file path for each topic\n",
    "        topic_csv = bag.message_by_topic(topic)\n",
    "        \n",
    "        if topic_csv:\n",
    "            print(f\"  - {topic}: {topic_csv}\")\n",
    "        else:\n",
    "            print(f\"  - {topic}: No data found\")\n",
    "\n",
    "# Call the function for each bag file\n",
    "read_bag_file('./Data/ROSBAG/Ch2_002/HMB_1.bag', 'HMB_1')\n",
    "read_bag_file('./Data/ROSBAG/Ch2_002/HMB_2.bag', 'HMB_2')\n",
    "read_bag_file('./Data/ROSBAG/Ch2_002/HMB_4.bag', 'HMB_4')\n",
    "read_bag_file('./Data/ROSBAG/Ch2_002/HMB_5.bag', 'HMB_5')\n",
    "read_bag_file('./Data/ROSBAG/Ch2_002/HMB_6.bag', 'HMB_6')"
   ]
  }
 ],
 "metadata": {
  "kernelspec": {
   "display_name": "Python 3 (ipykernel)",
   "language": "python",
   "name": "python3"
  },
  "language_info": {
   "codemirror_mode": {
    "name": "ipython",
    "version": 3
   },
   "file_extension": ".py",
   "mimetype": "text/x-python",
   "name": "python",
   "nbconvert_exporter": "python",
   "pygments_lexer": "ipython3",
   "version": "3.12.4"
  }
 },
 "nbformat": 4,
 "nbformat_minor": 5
}
