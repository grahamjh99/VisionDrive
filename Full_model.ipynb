{
 "cells": [
  {
   "cell_type": "code",
   "execution_count": 1,
   "id": "a869a294-2245-4ddf-8d32-9fa05568ed20",
   "metadata": {},
   "outputs": [],
   "source": [
    "import numpy as np\n",
    "import pandas as pd\n",
    "import matplotlib.pyplot as plt\n",
    "from PIL import Image\n",
    "import os\n",
    "from tensorflow.keras.models import Sequential, load_model\n",
    "from tensorflow.keras.layers import Input, Conv2D, MaxPooling2D, Flatten, Dense, Dropout, BatchNormalization\n",
    "from tensorflow.keras.optimizers import Adam\n",
    "from sklearn.model_selection import train_test_split\n",
    "from tensorflow.keras.callbacks import EarlyStopping\n",
    "import random\n",
    "from joblib import load, dump\n",
    "import gc\n",
    "from tqdm import tqdm\n",
    "\n",
    "random.seed(42)"
   ]
  },
  {
   "cell_type": "code",
   "execution_count": 2,
   "id": "30b69b60-6424-47f5-af12-880d338c7d0d",
   "metadata": {},
   "outputs": [],
   "source": [
    "image_loc = ['HMB_1','HMB_2','HMB_4','HMB_5','HMB_6']"
   ]
  },
  {
   "cell_type": "markdown",
   "id": "31d7190d-0a1d-4c30-a3e6-642abefadb90",
   "metadata": {},
   "source": [
    "## Load in data"
   ]
  },
  {
   "cell_type": "code",
   "execution_count": 4,
   "id": "a194e656-2ac0-4b04-8ee3-57d9ecf1c432",
   "metadata": {},
   "outputs": [],
   "source": [
    "model_inputs = pd.read_csv('./Data/cleaned_data/model_inputs.csv')"
   ]
  },
  {
   "cell_type": "code",
   "execution_count": 5,
   "id": "71906720-4700-4514-aeea-2bfdacd5834c",
   "metadata": {},
   "outputs": [
    {
     "data": {
      "text/plain": [
       "Index(['orientation.x', 'orientation.y', 'orientation.z', 'orientation.w',\n",
       "       'orientation_covariance_0', 'orientation_covariance_1',\n",
       "       'orientation_covariance_2', 'orientation_covariance_3',\n",
       "       'orientation_covariance_4', 'orientation_covariance_5',\n",
       "       'orientation_covariance_6', 'orientation_covariance_7',\n",
       "       'orientation_covariance_8', 'angular_velocity.x', 'angular_velocity.y',\n",
       "       'angular_velocity.z', 'angular_velocity_covariance_0',\n",
       "       'angular_velocity_covariance_1', 'angular_velocity_covariance_2',\n",
       "       'angular_velocity_covariance_3', 'angular_velocity_covariance_4',\n",
       "       'angular_velocity_covariance_5', 'angular_velocity_covariance_6',\n",
       "       'angular_velocity_covariance_7', 'angular_velocity_covariance_8',\n",
       "       'linear_acceleration.x', 'linear_acceleration.y',\n",
       "       'linear_acceleration.z', 'linear_acceleration_covariance_0',\n",
       "       'linear_acceleration_covariance_1', 'linear_acceleration_covariance_2',\n",
       "       'linear_acceleration_covariance_3', 'linear_acceleration_covariance_4',\n",
       "       'linear_acceleration_covariance_5', 'linear_acceleration_covariance_6',\n",
       "       'linear_acceleration_covariance_7', 'linear_acceleration_covariance_8',\n",
       "       'left_image_path', 'center_image_path', 'right_image_path',\n",
       "       'steering_wheel_angle', 'steering_wheel_torque', 'speed',\n",
       "       'steering_enabled', 'throttle_pc', 'throttle_rate', 'engine_rpm',\n",
       "       'brake_torque_actual', 'wheel_torque_actual', 'accel_over_ground',\n",
       "       'hill_start_assist_system_status', 'hill_start_assist_mode',\n",
       "       'abs_active', 'abs_enabled', 'stab_active', 'stab_enabled',\n",
       "       'trac_active', 'trac_enabled', 'parking_brake_enabled', 'stationary',\n",
       "       'throttle_pedal_input', 'throttle_pedal_cmd', 'throttle_pedal_output',\n",
       "       'throttle_enabled', 'front_left_wheel', 'front_right_wheel',\n",
       "       'rear_left_wheel', 'rear_right_wheel', 'brake_pedal_input',\n",
       "       'brake_pedal_cmd', 'brake_pedal_output', 'torque_input', 'torque_cmd',\n",
       "       'torque_output', 'brake_lights_input', 'brake_lights_output',\n",
       "       'brake_enabled', 'gear_state', 'gear_cmd'],\n",
       "      dtype='object')"
      ]
     },
     "execution_count": 5,
     "metadata": {},
     "output_type": "execute_result"
    }
   ],
   "source": [
    "model_inputs.columns"
   ]
  },
  {
   "cell_type": "code",
   "execution_count": 11,
   "id": "3bc7109f-da3b-42be-8e0e-55f7ed457335",
   "metadata": {},
   "outputs": [],
   "source": [
    "inputs = ['orientation.x', 'orientation.y', 'orientation.z', 'orientation.w','orientation_covariance_0', \n",
    "          'orientation_covariance_1','orientation_covariance_2', 'orientation_covariance_3','orientation_covariance_4', 'orientation_covariance_5','orientation_covariance_6', 'orientation_covariance_7',\n",
    "          'orientation_covariance_8', 'angular_velocity.x', 'angular_velocity.y','angular_velocity.z', 'angular_velocity_covariance_0',\n",
    "          'angular_velocity_covariance_1', 'angular_velocity_covariance_2','angular_velocity_covariance_3', 'angular_velocity_covariance_4',\n",
    "          'angular_velocity_covariance_5', 'angular_velocity_covariance_6','angular_velocity_covariance_7', 'angular_velocity_covariance_8',\n",
    "          'linear_acceleration.x', 'linear_acceleration.y','linear_acceleration.z', 'linear_acceleration_covariance_0','linear_acceleration_covariance_1', 'linear_acceleration_covariance_2',\n",
    "          'linear_acceleration_covariance_3', 'linear_acceleration_covariance_4','linear_acceleration_covariance_5', 'linear_acceleration_covariance_6',\n",
    "          'linear_acceleration_covariance_7', 'linear_acceleration_covariance_8','steering_wheel_angle', 'steering_wheel_torque', 'speed',\n",
    "          'steering_enabled', 'throttle_pc', 'throttle_rate', 'engine_rpm','brake_torque_actual', 'wheel_torque_actual', 'accel_over_ground',\n",
    "          'hill_start_assist_system_status', 'hill_start_assist_mode','abs_active', 'abs_enabled', 'stab_active', 'stab_enabled','trac_active', 'trac_enabled', 'parking_brake_enabled', 'stationary',\n",
    "          'throttle_pedal_input', 'throttle_pedal_cmd', 'throttle_pedal_output','throttle_enabled', 'front_left_wheel', 'front_right_wheel',\n",
    "          'rear_left_wheel', 'rear_right_wheel', 'brake_pedal_input','brake_pedal_cmd', 'brake_pedal_output', 'torque_input', 'torque_cmd',\n",
    "          'torque_output', 'brake_lights_input', 'brake_lights_output','brake_enabled']"
   ]
  },
  {
   "cell_type": "markdown",
   "id": "3559a71b-992c-49a5-853b-e146f5674f42",
   "metadata": {},
   "source": [
    "###  Run functions"
   ]
  },
  {
   "cell_type": "code",
   "execution_count": 9,
   "id": "104ed20e-91ef-4dd1-b36f-31cdfb087fd2",
   "metadata": {},
   "outputs": [],
   "source": [
    "def display_random_predictions(model, model_columns, columns_to_predict, X_test, y_test, num_images=5, save_dir='./prediction_images'):\n",
    "    \"\"\"\n",
    "    Display random images from the test set with true and predicted values, and save them to a folder.\n",
    "    \n",
    "    Parameters:\n",
    "    - model: The trained CNN model\n",
    "    - columns_to_predict: List of column names to predict (e.g., ['speed', 'steering_angle', 'torque'])\n",
    "    - X_test: Test images\n",
    "    - y_test: Ground truth values for the columns being predicted\n",
    "    - num_images: Number of random images to display\n",
    "    - save_dir: Directory to save the images (default is './prediction_images')\n",
    "    \"\"\"\n",
    "    \n",
    "    # Ensure the save directory exists\n",
    "    os.makedirs(save_dir, exist_ok=True)\n",
    "    \n",
    "    # Make predictions on the test data\n",
    "    predictions = model.predict(X_test)\n",
    "    \n",
    "    # Ensure y_test is a pandas DataFrame\n",
    "    if isinstance(y_test, np.ndarray):\n",
    "        y_test = pd.DataFrame(y_test, columns=model_columns)\n",
    "    \n",
    "    # Extract true and predicted values for each column in columns_to_predict\n",
    "    true_values = {col: y_test[col].values for col in columns_to_predict}\n",
    "    pred_values = {col: predictions[:, i] for i, col in enumerate(columns_to_predict)}\n",
    "    \n",
    "    # Randomly select indices from the test set\n",
    "    random_indices = np.random.choice(len(X_test), num_images)\n",
    "    \n",
    "    # Plot the images along with the true and predicted values\n",
    "    for idx in random_indices:\n",
    "        # Get the image (ensure it's a 3-channel image for display)\n",
    "        image = X_test[idx]\n",
    "        \n",
    "        # If the image has more than 3 channels (e.g., 9 channels), we display only the first 3 channels\n",
    "        if image.shape[-1] > 3:\n",
    "            image = image[..., :3]  # Take the first 3 channels (e.g., for RGB)\n",
    "        \n",
    "        # Get true and predicted values for each column\n",
    "        true_output = [true_values[col][idx] for col in columns_to_predict]\n",
    "        pred_output = [pred_values[col][idx] for col in columns_to_predict]\n",
    "        \n",
    "        # Create a string for the title\n",
    "        title = \"True vs Predicted\\n\"\n",
    "        title += \"\\n\".join([f\"{col.replace('_',' ').title()}: {true_output[i]:.2f} vs {pred_output[i]:.2f}\" \n",
    "                            for i, col in enumerate(columns_to_predict)])\n",
    "        \n",
    "        # Plot the image\n",
    "        plt.figure(figsize=(6, 6))\n",
    "        plt.imshow(image)\n",
    "        plt.axis('off')\n",
    "        plt.title(title)\n",
    "        \n",
    "        # Save the image with a unique filename in the provided folder\n",
    "        img_path = os.path.join(save_dir, f'image_{idx}.png')\n",
    "        plt.tight_layout()\n",
    "        plt.savefig(img_path)\n",
    "        plt.close()  # Close the figure to avoid memory issues\n",
    "        \n",
    "        print(f\"Saved image to {img_path}\")\n",
    "        plt.show()\n"
   ]
  },
  {
   "cell_type": "code",
   "execution_count": 8,
   "id": "adba0580-2639-4b8a-9273-ad76f25a5ddf",
   "metadata": {},
   "outputs": [],
   "source": [
    "def prepare_data_with_labels(df, image_columns, label_columns, target_size=(224, 224)):\n",
    "    \"\"\"\n",
    "    Prepares X (images) and y (labels) for training a CNN.\n",
    "    Parameters:\n",
    "        df (pd.DataFrame): DataFrame containing image paths and labels.\n",
    "        image_columns (list): List of column names with image paths (e.g., ['left_image_path', 'center_image_path', 'right_image_path']).\n",
    "        label_columns (list): List of column names for labels (e.g., ['steering_angle', 'throttle_cp']).\n",
    "        target_size (tuple): Target size for resizing images (width, height).\n",
    "    Returns:\n",
    "        np.ndarray: Array of image data (X) with shape (n_samples, height, width, channels).\n",
    "        np.ndarray: Array of labels (y).\n",
    "    \"\"\" \n",
    "    X_images = []\n",
    "    y_labels = []\n",
    "    \n",
    "    # Add progress bar\n",
    "    print(\"Processing images...\")\n",
    "    for idx, row in tqdm(df.iterrows(), total=len(df)):\n",
    "        row_images = []\n",
    "        valid_images = True\n",
    "        \n",
    "        # Process images for the current row\n",
    "        for col in image_columns:\n",
    "            image_path = row[col]\n",
    "            \n",
    "            if os.path.exists(image_path):\n",
    "                try:\n",
    "                    # Open and convert to RGB to ensure 3 channels\n",
    "                    img = Image.open(image_path).convert('RGB')\n",
    "                    # Resize image\n",
    "                    img = img.resize(target_size)\n",
    "                    # Convert to numpy array and normalize\n",
    "                    img_array = np.array(img, dtype=np.float32) / 255.0\n",
    "                    \n",
    "                    # Verify image shape\n",
    "                    if img_array.shape != (*target_size, 3):\n",
    "                        print(f\"Unexpected image shape for {image_path}: {img_array.shape}\")\n",
    "                        valid_images = False\n",
    "                        break\n",
    "                    \n",
    "                    row_images.append(img_array)\n",
    "                except Exception as e:\n",
    "                    print(f\"Error processing image {image_path}: {e}\")\n",
    "                    valid_images = False\n",
    "                    break\n",
    "            else:\n",
    "                print(f\"Image not found: {image_path}\")\n",
    "                valid_images = False\n",
    "                break\n",
    "        \n",
    "        # Only process row if all images were valid\n",
    "        if valid_images and len(row_images) == len(image_columns):\n",
    "            # Concatenate images along the channel dimension\n",
    "            # Each image is (height, width, 3), so final shape will be (height, width, 3 * num_cameras)\n",
    "            combined_image = np.concatenate(row_images, axis=-1)\n",
    "            X_images.append(combined_image)\n",
    "            y_labels.append(row[label_columns].values)\n",
    "    \n",
    "    if not X_images:\n",
    "        raise ValueError(\"No valid images were processed\")\n",
    "    \n",
    "    # Convert lists to numpy arrays\n",
    "    X = np.array(X_images, dtype=np.float32)\n",
    "    y = np.array(y_labels, dtype=np.float32)\n",
    "    \n",
    "    # Print shapes for verification\n",
    "    print(f\"\\nFinal data shapes:\")\n",
    "    print(f\"X shape: {X.shape}\")  # Should be (n_samples, height, width, 3 * num_cameras)\n",
    "    print(f\"y shape: {y.shape}\")  # Should be (n_samples, num_labels)\n",
    "    \n",
    "    return X, y"
   ]
  },
  {
   "cell_type": "code",
   "execution_count": 9,
   "id": "ceda3fbb-6252-42fe-bbcb-d9f350f74778",
   "metadata": {
    "scrolled": true
   },
   "outputs": [
    {
     "name": "stdout",
     "output_type": "stream",
     "text": [
      "Processing images...\n"
     ]
    },
    {
     "name": "stderr",
     "output_type": "stream",
     "text": [
      "100%|████████████████████████████████████| 33782/33782 [15:28<00:00, 36.38it/s]\n"
     ]
    },
    {
     "name": "stdout",
     "output_type": "stream",
     "text": [
      "\n",
      "Final data shapes:\n",
      "X shape: (33782, 224, 224, 9)\n",
      "y shape: (33782, 74)\n"
     ]
    }
   ],
   "source": [
    "X, y = prepare_data_with_labels(model_inputs,['left_image_path', 'center_image_path', 'right_image_path'],inputs)\n",
    "# model_inputs.columns[:36][39:]"
   ]
  },
  {
   "cell_type": "markdown",
   "id": "88fd2c40-02ce-478f-8153-334353da0d28",
   "metadata": {},
   "source": [
    "### Save the processed images for faster model testing"
   ]
  },
  {
   "cell_type": "code",
   "execution_count": 10,
   "id": "8c1c51d5-a6c4-44f7-8464-a0e1cf0d1ca7",
   "metadata": {},
   "outputs": [
    {
     "data": {
      "text/plain": [
       "['./Data/saved_variables/y_model_inputs.pkl']"
      ]
     },
     "execution_count": 10,
     "metadata": {},
     "output_type": "execute_result"
    }
   ],
   "source": [
    "dump(X, \"./Data/saved_variables/X_model_inputs.pkl\")\n",
    "dump(y, \"./Data/saved_variables/y_model_inputs.pkl\")"
   ]
  },
  {
   "cell_type": "code",
   "execution_count": 3,
   "id": "ebedbe8c-85a4-4941-867a-c8ea66382e74",
   "metadata": {},
   "outputs": [],
   "source": [
    "X_model_inputs = load(\"./Data/saved_variables/X_model_inputs.pkl\")\n",
    "y_model_inputs = load(\"./Data/saved_variables/y_model_inputs.pkl\")"
   ]
  },
  {
   "cell_type": "code",
   "execution_count": 4,
   "id": "536476cd-ef4e-4469-a4e4-6533125ea360",
   "metadata": {},
   "outputs": [],
   "source": [
    "X_train, X_test, y_train, y_test = train_test_split(X_model_inputs,\n",
    "                                                    y_model_inputs,\n",
    "                                                   shuffle = False)"
   ]
  },
  {
   "cell_type": "code",
   "execution_count": 5,
   "id": "c1328d95-2959-4f98-8500-b0aba0198cf1",
   "metadata": {},
   "outputs": [
    {
     "name": "stdout",
     "output_type": "stream",
     "text": [
      "(25336, 224, 224, 9)\n",
      "(8446, 224, 224, 9)\n"
     ]
    }
   ],
   "source": [
    "print(X_train.shape)\n",
    "print(X_test.shape)"
   ]
  },
  {
   "cell_type": "markdown",
   "id": "2dffe6cc-d617-49fd-9833-8440908e8ef6",
   "metadata": {},
   "source": [
    "### Run the model"
   ]
  },
  {
   "cell_type": "code",
   "execution_count": 15,
   "id": "013e1e78-d3a2-4705-8e03-a63a354a012e",
   "metadata": {},
   "outputs": [
    {
     "name": "stdout",
     "output_type": "stream",
     "text": [
      "Epoch 1/50\n",
      "\u001b[1m198/198\u001b[0m \u001b[32m━━━━━━━━━━━━━━━━━━━━\u001b[0m\u001b[37m\u001b[0m \u001b[1m652s\u001b[0m 3s/step - loss: 32008.4980 - mae: 62.3140 - mse: 32008.4980 - val_loss: 32173.8184 - val_mae: 31.1190 - val_mse: 32173.8184\n",
      "Epoch 2/50\n",
      "\u001b[1m198/198\u001b[0m \u001b[32m━━━━━━━━━━━━━━━━━━━━\u001b[0m\u001b[37m\u001b[0m \u001b[1m472s\u001b[0m 2s/step - loss: 7747.3257 - mae: 24.6518 - mse: 7747.3257 - val_loss: 44660.1992 - val_mae: 34.4120 - val_mse: 44660.1992\n",
      "Epoch 3/50\n",
      "\u001b[1m198/198\u001b[0m \u001b[32m━━━━━━━━━━━━━━━━━━━━\u001b[0m\u001b[37m\u001b[0m \u001b[1m484s\u001b[0m 2s/step - loss: 6400.5225 - mae: 16.9176 - mse: 6400.5225 - val_loss: 40767.9375 - val_mae: 33.3299 - val_mse: 40767.9375\n",
      "Epoch 4/50\n",
      "\u001b[1m198/198\u001b[0m \u001b[32m━━━━━━━━━━━━━━━━━━━━\u001b[0m\u001b[37m\u001b[0m \u001b[1m473s\u001b[0m 2s/step - loss: 5771.1865 - mae: 14.7109 - mse: 5771.1865 - val_loss: 45922.7578 - val_mae: 34.5691 - val_mse: 45922.7578\n",
      "Epoch 5/50\n",
      "\u001b[1m198/198\u001b[0m \u001b[32m━━━━━━━━━━━━━━━━━━━━\u001b[0m\u001b[37m\u001b[0m \u001b[1m496s\u001b[0m 3s/step - loss: 5714.2773 - mae: 14.1866 - mse: 5714.2773 - val_loss: 39914.2148 - val_mae: 32.7313 - val_mse: 39914.2148\n"
     ]
    }
   ],
   "source": [
    "def create_model(input_shape):\n",
    "    model = Sequential()\n",
    "    early_stopping = EarlyStopping(monitor = 'val_loss', patience = 4)\n",
    "\n",
    "    # Input layer\n",
    "    model.add(Input(shape=input_shape))\n",
    "\n",
    "    # First convolutional block\n",
    "    model.add(Conv2D(filters=32, kernel_size=3, activation='relu', padding='same'))\n",
    "    model.add(MaxPooling2D(pool_size=2))\n",
    "    model.add(BatchNormalization())\n",
    "\n",
    "    # Second convolutional block\n",
    "    model.add(Conv2D(filters=64, kernel_size=3, activation='relu', padding='same'))\n",
    "    model.add(MaxPooling2D(pool_size=2))\n",
    "    model.add(BatchNormalization())\n",
    "\n",
    "    # Third convolutional block\n",
    "    model.add(Conv2D(filters=128, kernel_size=3, activation='relu', padding='same'))\n",
    "    model.add(MaxPooling2D(pool_size=2))\n",
    "    model.add(BatchNormalization())\n",
    "\n",
    "    # Fourth convolutional block\n",
    "    model.add(Conv2D(filters=256, kernel_size=3, activation='relu', padding='same'))\n",
    "    model.add(MaxPooling2D(pool_size=2))\n",
    "    model.add(BatchNormalization())\n",
    "\n",
    "    # Fifth convolutional block\n",
    "    model.add(Conv2D(filters=256, kernel_size=3, activation='relu', padding='same'))\n",
    "    model.add(MaxPooling2D(pool_size=2))\n",
    "    model.add(BatchNormalization())\n",
    "\n",
    "    # Sixth convolutional block\n",
    "    model.add(Conv2D(filters=256, kernel_size=3, activation='relu', padding='same'))\n",
    "    model.add(MaxPooling2D(pool_size=2))\n",
    "    model.add(BatchNormalization())\n",
    "\n",
    "    # Seventh convolutional block\n",
    "    model.add(Conv2D(filters=256, kernel_size=3, activation='relu', padding='same'))\n",
    "    model.add(MaxPooling2D(pool_size=2))\n",
    "    model.add(BatchNormalization())\n",
    "\n",
    "    # Eighth convolutional block\n",
    "    model.add(Conv2D(filters=256, kernel_size=3, activation='relu', padding='same'))\n",
    "    model.add(BatchNormalization())\n",
    "\n",
    "    # Flatten and fully connected layers\n",
    "    model.add(Flatten())\n",
    "    model.add(Dense(units=512, activation='relu'))\n",
    "    model.add(Dropout(0.5))  \n",
    "    model.add(Dense(units=256, activation='relu'))\n",
    "    model.add(Dropout(0.5))\n",
    "    model.add(Dense(units=256, activation='relu'))\n",
    "    model.add(Dropout(0.5))\n",
    "    model.add(Dense(units=256, activation='relu'))\n",
    "    model.add(Dropout(0.5))\n",
    "    model.add(Dense(units=256, activation='relu'))\n",
    "    model.add(Dropout(0.5))\n",
    "    \n",
    "    # Output layer\n",
    "    model.add(Dense(units=74, activation='linear'))\n",
    "    # Compile the model\n",
    "    model.compile(optimizer=Adam(learning_rate=0.001), loss='mse', metrics=['mae','mse'])\n",
    "\n",
    "    history = model.fit(X_train,y_train,\n",
    "                       validation_data = (X_test,y_test),\n",
    "                       epochs = 50,\n",
    "                        callbacks = early_stopping,\n",
    "                       batch_size = 128)\n",
    "\n",
    "    return model, history\n",
    "    \n",
    "input_shape = (224,224,9)\n",
    "model, history = create_model(input_shape)"
   ]
  },
  {
   "cell_type": "code",
   "execution_count": 16,
   "id": "d5ce74ad-2c2a-442e-adec-feab3b0f77f5",
   "metadata": {},
   "outputs": [
    {
     "name": "stdout",
     "output_type": "stream",
     "text": [
      "\u001b[1m264/264\u001b[0m \u001b[32m━━━━━━━━━━━━━━━━━━━━\u001b[0m\u001b[37m\u001b[0m \u001b[1m28s\u001b[0m 106ms/step - loss: 36235.0117 - mae: 29.6265 - mse: 36235.0117\n"
     ]
    },
    {
     "data": {
      "text/plain": [
       "[39914.2109375, 32.731346130371094, 39914.2109375]"
      ]
     },
     "execution_count": 16,
     "metadata": {},
     "output_type": "execute_result"
    }
   ],
   "source": [
    "model.evaluate(X_test,y_test)"
   ]
  },
  {
   "cell_type": "markdown",
   "id": "d2f66623-7fe5-45ae-96ec-0699ef7a3c95",
   "metadata": {},
   "source": [
    "## Save the Model"
   ]
  },
  {
   "cell_type": "code",
   "execution_count": 17,
   "id": "fdc50e75-c354-4461-a085-b76651084191",
   "metadata": {},
   "outputs": [],
   "source": [
    "model.save('./Data/full_models/model_inputs.keras')"
   ]
  },
  {
   "cell_type": "code",
   "execution_count": 6,
   "id": "215f0657-44d0-486f-b530-1d3cdaeb4f9b",
   "metadata": {},
   "outputs": [],
   "source": [
    "model = load_model('./Data/full_models/model_inputs.keras')"
   ]
  },
  {
   "cell_type": "code",
   "execution_count": 18,
   "id": "04e5ccab-8682-41aa-9105-315c3a87c7cd",
   "metadata": {},
   "outputs": [
    {
     "data": {
      "text/plain": [
       "Index(['orientation.x', 'orientation.y', 'orientation.z', 'orientation.w',\n",
       "       'orientation_covariance_0', 'orientation_covariance_1',\n",
       "       'orientation_covariance_2', 'orientation_covariance_3',\n",
       "       'orientation_covariance_4', 'orientation_covariance_5',\n",
       "       'orientation_covariance_6', 'orientation_covariance_7',\n",
       "       'orientation_covariance_8', 'angular_velocity.x', 'angular_velocity.y',\n",
       "       'angular_velocity.z', 'angular_velocity_covariance_0',\n",
       "       'angular_velocity_covariance_1', 'angular_velocity_covariance_2',\n",
       "       'angular_velocity_covariance_3', 'angular_velocity_covariance_4',\n",
       "       'angular_velocity_covariance_5', 'angular_velocity_covariance_6',\n",
       "       'angular_velocity_covariance_7', 'angular_velocity_covariance_8',\n",
       "       'linear_acceleration.x', 'linear_acceleration.y',\n",
       "       'linear_acceleration.z', 'linear_acceleration_covariance_0',\n",
       "       'linear_acceleration_covariance_1', 'linear_acceleration_covariance_2',\n",
       "       'linear_acceleration_covariance_3', 'linear_acceleration_covariance_4',\n",
       "       'linear_acceleration_covariance_5', 'linear_acceleration_covariance_6',\n",
       "       'linear_acceleration_covariance_7', 'linear_acceleration_covariance_8',\n",
       "       'left_image_path', 'center_image_path', 'right_image_path',\n",
       "       'steering_wheel_angle', 'steering_wheel_torque', 'speed',\n",
       "       'steering_enabled', 'throttle_pc', 'throttle_rate', 'engine_rpm',\n",
       "       'brake_torque_actual', 'wheel_torque_actual', 'accel_over_ground',\n",
       "       'hill_start_assist_system_status', 'hill_start_assist_mode',\n",
       "       'abs_active', 'abs_enabled', 'stab_active', 'stab_enabled',\n",
       "       'trac_active', 'trac_enabled', 'parking_brake_enabled', 'stationary',\n",
       "       'throttle_pedal_input', 'throttle_pedal_cmd', 'throttle_pedal_output',\n",
       "       'throttle_enabled', 'front_left_wheel', 'front_right_wheel',\n",
       "       'rear_left_wheel', 'rear_right_wheel', 'brake_pedal_input',\n",
       "       'brake_pedal_cmd', 'brake_pedal_output', 'torque_input', 'torque_cmd',\n",
       "       'torque_output', 'brake_lights_input', 'brake_lights_output',\n",
       "       'brake_enabled', 'gear_state', 'gear_cmd'],\n",
       "      dtype='object')"
      ]
     },
     "execution_count": 18,
     "metadata": {},
     "output_type": "execute_result"
    }
   ],
   "source": [
    "model_inputs.columns"
   ]
  },
  {
   "cell_type": "markdown",
   "id": "796639da-fae6-48db-aa39-5c786d9a7aa1",
   "metadata": {},
   "source": [
    "## Get out random images for review"
   ]
  },
  {
   "cell_type": "code",
   "execution_count": 27,
   "id": "bead860f-2790-4d4b-a511-dae9d1c9c0f1",
   "metadata": {},
   "outputs": [
    {
     "name": "stdout",
     "output_type": "stream",
     "text": [
      "\u001b[1m264/264\u001b[0m \u001b[32m━━━━━━━━━━━━━━━━━━━━\u001b[0m\u001b[37m\u001b[0m \u001b[1m30s\u001b[0m 115ms/step\n",
      "Saved image to ./prediction_images/brake\\image_1121.png\n",
      "Saved image to ./prediction_images/brake\\image_5598.png\n",
      "Saved image to ./prediction_images/brake\\image_2410.png\n",
      "Saved image to ./prediction_images/brake\\image_1374.png\n",
      "Saved image to ./prediction_images/brake\\image_7307.png\n"
     ]
    }
   ],
   "source": [
    "display_random_predictions(model,inputs,['abs_active','brake_pedal_input','brake_pedal_output','brake_enabled'],X_test,y_test,save_dir = './prediction_images/brake')"
   ]
  },
  {
   "cell_type": "code",
   "execution_count": 12,
   "id": "6012b57d-081f-4a87-940e-2c58d5df386d",
   "metadata": {},
   "outputs": [
    {
     "name": "stdout",
     "output_type": "stream",
     "text": [
      "\u001b[1m264/264\u001b[0m \u001b[32m━━━━━━━━━━━━━━━━━━━━\u001b[0m\u001b[37m\u001b[0m \u001b[1m29s\u001b[0m 107ms/step\n",
      "Saved image to ./prediction_images/speed\\image_8362.png\n",
      "Saved image to ./prediction_images/speed\\image_4168.png\n",
      "Saved image to ./prediction_images/speed\\image_3813.png\n",
      "Saved image to ./prediction_images/speed\\image_4154.png\n",
      "Saved image to ./prediction_images/speed\\image_3163.png\n"
     ]
    }
   ],
   "source": [
    "display_random_predictions(model,inputs,['speed','throttle_pedal_output','throttle_pedal_input'],X_test,y_test,save_dir = './prediction_images/speed')"
   ]
  },
  {
   "cell_type": "code",
   "execution_count": 29,
   "id": "5802a295-fb33-437a-abd0-35d07deb590d",
   "metadata": {},
   "outputs": [
    {
     "name": "stdout",
     "output_type": "stream",
     "text": [
      "\u001b[1m264/264\u001b[0m \u001b[32m━━━━━━━━━━━━━━━━━━━━\u001b[0m\u001b[37m\u001b[0m \u001b[1m30s\u001b[0m 115ms/step\n",
      "Saved image to ./prediction_images/brake\\image_4987.png\n",
      "Saved image to ./prediction_images/brake\\image_6354.png\n",
      "Saved image to ./prediction_images/brake\\image_4198.png\n",
      "Saved image to ./prediction_images/brake\\image_4374.png\n",
      "Saved image to ./prediction_images/brake\\image_3928.png\n"
     ]
    }
   ],
   "source": [
    "display_random_predictions(model,inputs,['brake_torque_actual','wheel_torque_actual','accel_over_ground'],X_test,y_test,save_dir = './prediction_images/brake')"
   ]
  },
  {
   "cell_type": "code",
   "execution_count": 31,
   "id": "1356ac30-28b9-44fd-875b-129bb91085c2",
   "metadata": {},
   "outputs": [
    {
     "name": "stdout",
     "output_type": "stream",
     "text": [
      "\u001b[1m264/264\u001b[0m \u001b[32m━━━━━━━━━━━━━━━━━━━━\u001b[0m\u001b[37m\u001b[0m \u001b[1m31s\u001b[0m 116ms/step\n",
      "Saved image to ./prediction_images/throttle\\image_7974.png\n",
      "Saved image to ./prediction_images/throttle\\image_4028.png\n",
      "Saved image to ./prediction_images/throttle\\image_7780.png\n",
      "Saved image to ./prediction_images/throttle\\image_5424.png\n",
      "Saved image to ./prediction_images/throttle\\image_700.png\n"
     ]
    }
   ],
   "source": [
    "display_random_predictions(model,inputs,['throttle_pedal_input','throttle_pedal_output','engine_rpm'],X_test,y_test,save_dir = './prediction_images/throttle')"
   ]
  },
  {
   "cell_type": "code",
   "execution_count": 30,
   "id": "66d81e94-943c-4832-b032-61ca941e3722",
   "metadata": {},
   "outputs": [
    {
     "name": "stdout",
     "output_type": "stream",
     "text": [
      "\u001b[1m264/264\u001b[0m \u001b[32m━━━━━━━━━━━━━━━━━━━━\u001b[0m\u001b[37m\u001b[0m \u001b[1m30s\u001b[0m 115ms/step\n",
      "Saved image to ./prediction_images/steer\\image_3398.png\n",
      "Saved image to ./prediction_images/steer\\image_628.png\n",
      "Saved image to ./prediction_images/steer\\image_3041.png\n",
      "Saved image to ./prediction_images/steer\\image_4697.png\n",
      "Saved image to ./prediction_images/steer\\image_5683.png\n"
     ]
    }
   ],
   "source": [
    "display_random_predictions(model,inputs,['steering_wheel_angle','steering_enabled','steering_wheel_torque'],X_test,y_test,save_dir = './prediction_images/steer')"
   ]
  },
  {
   "cell_type": "markdown",
   "id": "84b1315e-3272-4cce-bbe5-3c94a0a0e6a4",
   "metadata": {},
   "source": [
    "### Delete all variables and recollect memory for faster model fitting and so no errors occur where there is no memory left available"
   ]
  },
  {
   "cell_type": "code",
   "execution_count": null,
   "id": "d07c8ca6-3740-440a-8dec-e8d6b402e212",
   "metadata": {},
   "outputs": [],
   "source": [
    "del X, y, X_train, X_test, y_train, y_test, model, history, X_model_inputs, y_model_inputs"
   ]
  },
  {
   "cell_type": "code",
   "execution_count": null,
   "id": "102af131-d199-47f0-abdc-a2ccb7273077",
   "metadata": {},
   "outputs": [],
   "source": [
    "gc.collect()"
   ]
  },
  {
   "cell_type": "code",
   "execution_count": null,
   "id": "741b5ba7-b68b-4fc4-84a7-df1c1c532c89",
   "metadata": {},
   "outputs": [],
   "source": []
  }
 ],
 "metadata": {
  "kernelspec": {
   "display_name": "Python 3 (ipykernel)",
   "language": "python",
   "name": "python3"
  },
  "language_info": {
   "codemirror_mode": {
    "name": "ipython",
    "version": 3
   },
   "file_extension": ".py",
   "mimetype": "text/x-python",
   "name": "python",
   "nbconvert_exporter": "python",
   "pygments_lexer": "ipython3",
   "version": "3.12.3"
  }
 },
 "nbformat": 4,
 "nbformat_minor": 5
}
