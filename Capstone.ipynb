{
 "cells": [
  {
   "cell_type": "code",
   "execution_count": 5,
   "id": "77c523c6-f49b-4a03-8765-1606584180d3",
   "metadata": {},
   "outputs": [],
   "source": [
    "import numpy as np\n",
    "import pandas as pd\n",
    "from PIL import Image\n",
    "import os"
   ]
  },
  {
   "cell_type": "code",
   "execution_count": 2,
   "id": "d17102cc-77fa-43df-a4d6-988d70854721",
   "metadata": {
    "scrolled": true
   },
   "outputs": [
    {
     "data": {
      "text/plain": [
       "Time                                0\n",
       "header.seq                          0\n",
       "header.stamp.secs                   0\n",
       "header.stamp.nsecs                  0\n",
       "header.frame_id                     0\n",
       "orientation.x                       0\n",
       "orientation.y                       0\n",
       "orientation.z                       0\n",
       "orientation.w                       0\n",
       "orientation_covariance_0            0\n",
       "orientation_covariance_1            0\n",
       "orientation_covariance_2            0\n",
       "orientation_covariance_3            0\n",
       "orientation_covariance_4            0\n",
       "orientation_covariance_5            0\n",
       "orientation_covariance_6            0\n",
       "orientation_covariance_7            0\n",
       "orientation_covariance_8            0\n",
       "angular_velocity.x                  0\n",
       "angular_velocity.y                  0\n",
       "angular_velocity.z                  0\n",
       "angular_velocity_covariance_0       0\n",
       "angular_velocity_covariance_1       0\n",
       "angular_velocity_covariance_2       0\n",
       "angular_velocity_covariance_3       0\n",
       "angular_velocity_covariance_4       0\n",
       "angular_velocity_covariance_5       0\n",
       "angular_velocity_covariance_6       0\n",
       "angular_velocity_covariance_7       0\n",
       "angular_velocity_covariance_8       0\n",
       "linear_acceleration.x               0\n",
       "linear_acceleration.y               0\n",
       "linear_acceleration.z               0\n",
       "linear_acceleration_covariance_0    0\n",
       "linear_acceleration_covariance_1    0\n",
       "linear_acceleration_covariance_2    0\n",
       "linear_acceleration_covariance_3    0\n",
       "linear_acceleration_covariance_4    0\n",
       "linear_acceleration_covariance_5    0\n",
       "linear_acceleration_covariance_6    0\n",
       "linear_acceleration_covariance_7    0\n",
       "linear_acceleration_covariance_8    0\n",
       "dtype: int64"
      ]
     },
     "execution_count": 2,
     "metadata": {},
     "output_type": "execute_result"
    }
   ],
   "source": [
    "# read in CSV\n",
    "hmb_1_imu = pd.read_csv('./Data/ROSBAG/Ch2_002/HMB_1/imu-data.csv')\n",
    "hmb_1_imu.isnull().sum()"
   ]
  },
  {
   "cell_type": "code",
   "execution_count": 7,
   "id": "75d6886b-e572-4fd9-b2e8-3b3d4ae662f8",
   "metadata": {},
   "outputs": [],
   "source": [
    "image_base_dir = './Data/ROSBAG/Ch2_002/images/HMB_1'\n",
    "\n",
    "# Define camera folders\n",
    "camera_folders = {\n",
    "    \"left\": os.path.join(image_base_dir, \"left\"),\n",
    "    \"center\": os.path.join(image_base_dir, \"center\"),\n",
    "    \"right\": os.path.join(image_base_dir, \"right\"),\n",
    "}\n",
    "\n",
    "# Add new columns for image paths\n",
    "for camera in camera_folders:\n",
    "    hmb_1_imu[f\"{camera}_image_path\"] = hmb_1_imu['Time'].apply(\n",
    "        lambda x: os.path.join(camera_folders[camera], f\"frame_{x}.png\")\n",
    "    )\n",
    "\n",
    "# Save the updated CSV (optional)\n",
    "hmb_1_imu.to_csv(\"imu_data_with_camera_image_paths.csv\", index=False)\n",
    "\n",
    "    "
   ]
  },
  {
   "cell_type": "code",
   "execution_count": 12,
   "id": "a6f31061-caa6-4e54-b739-4795983cbf71",
   "metadata": {},
   "outputs": [],
   "source": [
    "steer = pd.read_csv('./Data/ROSBAG/Ch2_002/HMB_1/vehicle-steering_report.csv')\n",
    "throttle = pd.read_csv('./Data/ROSBAG/Ch2_002/HMB_1/vehicle-throttle_info_report.csv')"
   ]
  },
  {
   "cell_type": "code",
   "execution_count": 13,
   "id": "85ab7c32-7477-4a29-a084-e88564496b7a",
   "metadata": {},
   "outputs": [
    {
     "data": {
      "text/plain": [
       "(11040, 17)"
      ]
     },
     "execution_count": 13,
     "metadata": {},
     "output_type": "execute_result"
    }
   ],
   "source": [
    "steer.shape"
   ]
  },
  {
   "cell_type": "code",
   "execution_count": 14,
   "id": "ca8a460f-4cf3-443c-b58d-67c40012e221",
   "metadata": {},
   "outputs": [
    {
     "data": {
      "text/plain": [
       "(22118, 8)"
      ]
     },
     "execution_count": 14,
     "metadata": {},
     "output_type": "execute_result"
    }
   ],
   "source": [
    "throttle.shape"
   ]
  },
  {
   "cell_type": "code",
   "execution_count": null,
   "id": "5dda988e-84b3-4c33-921b-f6c098d8804f",
   "metadata": {},
   "outputs": [],
   "source": []
  }
 ],
 "metadata": {
  "kernelspec": {
   "display_name": "Python 3 (ipykernel)",
   "language": "python",
   "name": "python3"
  },
  "language_info": {
   "codemirror_mode": {
    "name": "ipython",
    "version": 3
   },
   "file_extension": ".py",
   "mimetype": "text/x-python",
   "name": "python",
   "nbconvert_exporter": "python",
   "pygments_lexer": "ipython3",
   "version": "3.12.4"
  }
 },
 "nbformat": 4,
 "nbformat_minor": 5
}
